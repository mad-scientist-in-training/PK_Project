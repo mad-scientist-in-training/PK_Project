{
 "cells": [
  {
   "cell_type": "markdown",
   "id": "204878f2",
   "metadata": {},
   "source": [
    "# Chemical structure prediction"
   ]
  },
  {
   "cell_type": "markdown",
   "id": "6fbc0003",
   "metadata": {},
   "source": [
    "In this notebook, the packages ChemProp (https://github.com/chemprop/chemprop) and RDKit's Chemistry Drawer (https://github.com/dylanwal/chemistry_drawer) were utilized to train, test, predict, interpret, and draw drugs and their pharmacokinetic parameters relevant to the report titled \"Chemical structure and machine learning: leveraging the power of deep neural networks to aid the development of long-acting drugs for HIV and HIV coinfections\". For this project, ChemProp was used on the command line to train algorithms that would predict binary classifiers related to volume of distribution, clearance, and half-life of a drug dataset, and then predict on an HIV/TB/HepB dataset to identify molecules most suitable for long-acting formulation. \n",
    "\n",
    "For information on the command line arguments used, please reference the conda_hx.txt file in this repo. The report will likely be deposited on bioRXiv, and this page will be updated when that becomes available. \n",
    "\n",
    "All figures were put together in Adobe Illustrator."
   ]
  },
  {
   "cell_type": "markdown",
   "id": "492fb4a0",
   "metadata": {},
   "source": [
    "# Visualization of datasets - figures 1-2"
   ]
  },
  {
   "cell_type": "code",
   "execution_count": null,
   "id": "292d8faf",
   "metadata": {},
   "outputs": [],
   "source": [
    "#import necessary packages (for all analyses in this script)\n",
    "import pandas as pd\n",
    "import numpy as np\n",
    "import seaborn as sns\n",
    "import matplotlib.pyplot as plt\n",
    "from cProfile import label\n",
    "from turtle import color\n",
    "import chemdraw\n",
    "from rdkit import chem"
   ]
  },
  {
   "cell_type": "code",
   "execution_count": null,
   "id": "1e605a6f",
   "metadata": {},
   "outputs": [],
   "source": [
    "#create a histogram of the pharmacokinetic parameter of interest (in this case volume of distribution)\n",
    "Vd = pd.read_csv(\"C:/classification_chemprop/Vd/Vd_class_master.csv\")\n",
    "sns.histplot(data=Vd['volume-of-distribution (L/KG)'], bins=20, log_scale=True, palette=\"hls\")"
   ]
  },
  {
   "cell_type": "code",
   "execution_count": null,
   "id": "d4bf49bf",
   "metadata": {},
   "outputs": [],
   "source": [
    "#create the dumbell plot in the report\n",
    "\n",
    "my_range=range(1, len(improved.index)+1)\n",
    "\n",
    "plt.hlines(y=my_range, xmin=improved['combined'], xmax=improved['alone'], color='grey', alpha=0.4)\n",
    "plt.scatter(improved['alone'], my_range, color='skyblue', alpha=1, label='alone')\n",
    "plt.scatter(improved['combined'], my_range, color='green', alpha=0.4, label= 'combined')\n",
    "plt.legend()\n",
    "\n",
    "plt.yticks(my_range, improved['PK_param'])\n",
    "plt.title(\"Comparison of the value 1 and the value 2\", loc='left')\n",
    "plt.xlabel('Value of the variables')\n",
    "plt.ylabel('Group')\n",
    "\n",
    "\n",
    "plt.show()"
   ]
  },
  {
   "cell_type": "markdown",
   "id": "2411f788",
   "metadata": {},
   "source": [
    "# Visualization of Drug Molecules - Figure 4"
   ]
  },
  {
   "cell_type": "code",
   "execution_count": null,
   "id": "66ba5a65",
   "metadata": {},
   "outputs": [],
   "source": [
    "#use ChemDraw to create the molecule visualizations from the report from SMILES / SMARTS\n",
    "\n",
    "mol = \"CN1C(=NNC1=O)CN2C=CC(=C(C2=O)OC3=CC(=CC(=C3)C#N)Cl)C(F)(F)F\" #or any molecule of interest\n",
    "\n",
    "molecule = chemdraw.Molecule(mol)\n",
    "\n",
    "drawer = chemdraw.Drawer(molecule, title=mol)\n",
    "fig = drawer.draw()\n",
    "fig.show()"
   ]
  },
  {
   "cell_type": "markdown",
   "id": "fd750484",
   "metadata": {},
   "source": [
    "# Use of RDKit Chem package to determine substructures drugs"
   ]
  },
  {
   "cell_type": "code",
   "execution_count": null,
   "id": "37768e48",
   "metadata": {},
   "outputs": [],
   "source": [
    "#import compounds_smarts dataset, which includes substructures and their SMARTS configurations\n",
    "compounds_smarts = pd.read_csv(\"C:/SMARTS_functional_groups.csv\")\n",
    "\n",
    "#convert SMARTS config column to list\n",
    "SMARTS_list = compounds_smarts['SMARTS'].to_list()\n",
    "\n",
    "#from interpret csv, which predicted the substructures relevant to the classification decision of ChemProp, loop through the functional_group list to return a number of matches of each substructure found in molecule of interest\n",
    "\n",
    "mol = Chem.MolFromSmiles('Nc1nc(N[CH3:1])[cH:1][cH:1]n1') #or whatever substructure was returned from ChemProp interpret\n",
    "\n",
    "functional_group = []\n",
    "for x in SMARTS_list:\n",
    "    x = Chem.MolFromSmarts(x)\n",
    "    functional_group.append(x)\n",
    "for y in functional_group:\n",
    "    match = mol.GetSubstructMatches(y)\n",
    "    print(len(match))"
   ]
  }
 ],
 "metadata": {
  "kernelspec": {
   "display_name": "data_science",
   "language": "python",
   "name": "data_science"
  },
  "language_info": {
   "codemirror_mode": {
    "name": "ipython",
    "version": 3
   },
   "file_extension": ".py",
   "mimetype": "text/x-python",
   "name": "python",
   "nbconvert_exporter": "python",
   "pygments_lexer": "ipython3",
   "version": "3.10.6"
  }
 },
 "nbformat": 4,
 "nbformat_minor": 5
}
